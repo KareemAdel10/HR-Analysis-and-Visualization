{
 "cells": [
  {
   "cell_type": "code",
   "execution_count": 2,
   "id": "48020945",
   "metadata": {},
   "outputs": [],
   "source": [
    "import numpy as np\n",
    "import pandas as pd\n",
    "import matplotlib.pyplot as plt\n",
    "from scipy.stats import pearsonr\n"
   ]
  },
  {
   "cell_type": "code",
   "execution_count": 3,
   "id": "6dfc88e1",
   "metadata": {},
   "outputs": [],
   "source": [
    "df=pd.read_csv(r\"K:\\Kaggle data sets\\data.csv\")"
   ]
  },
  {
   "cell_type": "code",
   "execution_count": 4,
   "id": "4aa72477",
   "metadata": {},
   "outputs": [
    {
     "data": {
      "text/html": [
       "<div>\n",
       "<style scoped>\n",
       "    .dataframe tbody tr th:only-of-type {\n",
       "        vertical-align: middle;\n",
       "    }\n",
       "\n",
       "    .dataframe tbody tr th {\n",
       "        vertical-align: top;\n",
       "    }\n",
       "\n",
       "    .dataframe thead th {\n",
       "        text-align: right;\n",
       "    }\n",
       "</style>\n",
       "<table border=\"1\" class=\"dataframe\">\n",
       "  <thead>\n",
       "    <tr style=\"text-align: right;\">\n",
       "      <th></th>\n",
       "      <th>employee_id</th>\n",
       "      <th>department</th>\n",
       "      <th>region</th>\n",
       "      <th>education</th>\n",
       "      <th>gender</th>\n",
       "      <th>recruitment_channel</th>\n",
       "      <th>no_of_trainings</th>\n",
       "      <th>age</th>\n",
       "      <th>previous_year_rating</th>\n",
       "      <th>length_of_service</th>\n",
       "      <th>KPIs_met &gt;80%</th>\n",
       "      <th>awards_won?</th>\n",
       "      <th>avg_training_score</th>\n",
       "      <th>is_promoted</th>\n",
       "    </tr>\n",
       "  </thead>\n",
       "  <tbody>\n",
       "    <tr>\n",
       "      <th>0</th>\n",
       "      <td>65438</td>\n",
       "      <td>Sales &amp; Marketing</td>\n",
       "      <td>region_7</td>\n",
       "      <td>Master's &amp; above</td>\n",
       "      <td>f</td>\n",
       "      <td>sourcing</td>\n",
       "      <td>1</td>\n",
       "      <td>35</td>\n",
       "      <td>5.0</td>\n",
       "      <td>8</td>\n",
       "      <td>1</td>\n",
       "      <td>0</td>\n",
       "      <td>49</td>\n",
       "      <td>0</td>\n",
       "    </tr>\n",
       "    <tr>\n",
       "      <th>1</th>\n",
       "      <td>65141</td>\n",
       "      <td>Operations</td>\n",
       "      <td>region_22</td>\n",
       "      <td>Bachelor's</td>\n",
       "      <td>m</td>\n",
       "      <td>other</td>\n",
       "      <td>1</td>\n",
       "      <td>30</td>\n",
       "      <td>5.0</td>\n",
       "      <td>4</td>\n",
       "      <td>0</td>\n",
       "      <td>0</td>\n",
       "      <td>60</td>\n",
       "      <td>0</td>\n",
       "    </tr>\n",
       "    <tr>\n",
       "      <th>2</th>\n",
       "      <td>7513</td>\n",
       "      <td>Sales &amp; Marketing</td>\n",
       "      <td>region_19</td>\n",
       "      <td>Bachelor's</td>\n",
       "      <td>m</td>\n",
       "      <td>sourcing</td>\n",
       "      <td>1</td>\n",
       "      <td>34</td>\n",
       "      <td>3.0</td>\n",
       "      <td>7</td>\n",
       "      <td>0</td>\n",
       "      <td>0</td>\n",
       "      <td>50</td>\n",
       "      <td>0</td>\n",
       "    </tr>\n",
       "    <tr>\n",
       "      <th>3</th>\n",
       "      <td>2542</td>\n",
       "      <td>Sales &amp; Marketing</td>\n",
       "      <td>region_23</td>\n",
       "      <td>Bachelor's</td>\n",
       "      <td>m</td>\n",
       "      <td>other</td>\n",
       "      <td>2</td>\n",
       "      <td>39</td>\n",
       "      <td>1.0</td>\n",
       "      <td>10</td>\n",
       "      <td>0</td>\n",
       "      <td>0</td>\n",
       "      <td>50</td>\n",
       "      <td>0</td>\n",
       "    </tr>\n",
       "    <tr>\n",
       "      <th>4</th>\n",
       "      <td>48945</td>\n",
       "      <td>Technology</td>\n",
       "      <td>region_26</td>\n",
       "      <td>Bachelor's</td>\n",
       "      <td>m</td>\n",
       "      <td>other</td>\n",
       "      <td>1</td>\n",
       "      <td>45</td>\n",
       "      <td>3.0</td>\n",
       "      <td>2</td>\n",
       "      <td>0</td>\n",
       "      <td>0</td>\n",
       "      <td>73</td>\n",
       "      <td>0</td>\n",
       "    </tr>\n",
       "    <tr>\n",
       "      <th>5</th>\n",
       "      <td>58896</td>\n",
       "      <td>Analytics</td>\n",
       "      <td>region_2</td>\n",
       "      <td>Bachelor's</td>\n",
       "      <td>m</td>\n",
       "      <td>sourcing</td>\n",
       "      <td>2</td>\n",
       "      <td>31</td>\n",
       "      <td>3.0</td>\n",
       "      <td>7</td>\n",
       "      <td>0</td>\n",
       "      <td>0</td>\n",
       "      <td>85</td>\n",
       "      <td>0</td>\n",
       "    </tr>\n",
       "    <tr>\n",
       "      <th>6</th>\n",
       "      <td>20379</td>\n",
       "      <td>Operations</td>\n",
       "      <td>region_20</td>\n",
       "      <td>Bachelor's</td>\n",
       "      <td>f</td>\n",
       "      <td>other</td>\n",
       "      <td>1</td>\n",
       "      <td>31</td>\n",
       "      <td>3.0</td>\n",
       "      <td>5</td>\n",
       "      <td>0</td>\n",
       "      <td>0</td>\n",
       "      <td>59</td>\n",
       "      <td>0</td>\n",
       "    </tr>\n",
       "    <tr>\n",
       "      <th>7</th>\n",
       "      <td>16290</td>\n",
       "      <td>Operations</td>\n",
       "      <td>region_34</td>\n",
       "      <td>Master's &amp; above</td>\n",
       "      <td>m</td>\n",
       "      <td>sourcing</td>\n",
       "      <td>1</td>\n",
       "      <td>33</td>\n",
       "      <td>3.0</td>\n",
       "      <td>6</td>\n",
       "      <td>0</td>\n",
       "      <td>0</td>\n",
       "      <td>63</td>\n",
       "      <td>0</td>\n",
       "    </tr>\n",
       "    <tr>\n",
       "      <th>8</th>\n",
       "      <td>73202</td>\n",
       "      <td>Analytics</td>\n",
       "      <td>region_20</td>\n",
       "      <td>Bachelor's</td>\n",
       "      <td>m</td>\n",
       "      <td>other</td>\n",
       "      <td>1</td>\n",
       "      <td>28</td>\n",
       "      <td>4.0</td>\n",
       "      <td>5</td>\n",
       "      <td>0</td>\n",
       "      <td>0</td>\n",
       "      <td>83</td>\n",
       "      <td>0</td>\n",
       "    </tr>\n",
       "    <tr>\n",
       "      <th>9</th>\n",
       "      <td>28911</td>\n",
       "      <td>Sales &amp; Marketing</td>\n",
       "      <td>region_1</td>\n",
       "      <td>Master's &amp; above</td>\n",
       "      <td>m</td>\n",
       "      <td>sourcing</td>\n",
       "      <td>1</td>\n",
       "      <td>32</td>\n",
       "      <td>5.0</td>\n",
       "      <td>5</td>\n",
       "      <td>1</td>\n",
       "      <td>0</td>\n",
       "      <td>54</td>\n",
       "      <td>0</td>\n",
       "    </tr>\n",
       "  </tbody>\n",
       "</table>\n",
       "</div>"
      ],
      "text/plain": [
       "   employee_id         department     region         education gender  \\\n",
       "0        65438  Sales & Marketing   region_7  Master's & above      f   \n",
       "1        65141         Operations  region_22        Bachelor's      m   \n",
       "2         7513  Sales & Marketing  region_19        Bachelor's      m   \n",
       "3         2542  Sales & Marketing  region_23        Bachelor's      m   \n",
       "4        48945         Technology  region_26        Bachelor's      m   \n",
       "5        58896          Analytics   region_2        Bachelor's      m   \n",
       "6        20379         Operations  region_20        Bachelor's      f   \n",
       "7        16290         Operations  region_34  Master's & above      m   \n",
       "8        73202          Analytics  region_20        Bachelor's      m   \n",
       "9        28911  Sales & Marketing   region_1  Master's & above      m   \n",
       "\n",
       "  recruitment_channel  no_of_trainings  age  previous_year_rating  \\\n",
       "0            sourcing                1   35                   5.0   \n",
       "1               other                1   30                   5.0   \n",
       "2            sourcing                1   34                   3.0   \n",
       "3               other                2   39                   1.0   \n",
       "4               other                1   45                   3.0   \n",
       "5            sourcing                2   31                   3.0   \n",
       "6               other                1   31                   3.0   \n",
       "7            sourcing                1   33                   3.0   \n",
       "8               other                1   28                   4.0   \n",
       "9            sourcing                1   32                   5.0   \n",
       "\n",
       "   length_of_service  KPIs_met >80%  awards_won?  avg_training_score  \\\n",
       "0                  8              1            0                  49   \n",
       "1                  4              0            0                  60   \n",
       "2                  7              0            0                  50   \n",
       "3                 10              0            0                  50   \n",
       "4                  2              0            0                  73   \n",
       "5                  7              0            0                  85   \n",
       "6                  5              0            0                  59   \n",
       "7                  6              0            0                  63   \n",
       "8                  5              0            0                  83   \n",
       "9                  5              1            0                  54   \n",
       "\n",
       "   is_promoted  \n",
       "0            0  \n",
       "1            0  \n",
       "2            0  \n",
       "3            0  \n",
       "4            0  \n",
       "5            0  \n",
       "6            0  \n",
       "7            0  \n",
       "8            0  \n",
       "9            0  "
      ]
     },
     "execution_count": 4,
     "metadata": {},
     "output_type": "execute_result"
    }
   ],
   "source": [
    "df.head(10)"
   ]
  },
  {
   "cell_type": "markdown",
   "id": "89bd7323",
   "metadata": {},
   "source": [
    "# 1-How many rows and columns are there in the dataset?\n",
    "\n",
    "\n",
    "\n"
   ]
  },
  {
   "cell_type": "code",
   "execution_count": 7,
   "id": "e3a52d0f",
   "metadata": {},
   "outputs": [
    {
     "data": {
      "text/plain": [
       "(54808, 14)"
      ]
     },
     "execution_count": 7,
     "metadata": {},
     "output_type": "execute_result"
    }
   ],
   "source": [
    "df.shape"
   ]
  },
  {
   "cell_type": "markdown",
   "id": "9da5046f",
   "metadata": {},
   "source": [
    "# 2-What are the unique values in the 'department' column?\n",
    "\n"
   ]
  },
  {
   "cell_type": "code",
   "execution_count": 10,
   "id": "8c546796",
   "metadata": {
    "collapsed": true
   },
   "outputs": [
    {
     "data": {
      "text/plain": [
       "array(['Sales & Marketing', 'Operations', 'Technology', 'Analytics',\n",
       "       'R&D', 'Procurement', 'Finance', 'HR', 'Legal'], dtype=object)"
      ]
     },
     "execution_count": 10,
     "metadata": {},
     "output_type": "execute_result"
    }
   ],
   "source": [
    "df.department.unique()"
   ]
  },
  {
   "cell_type": "markdown",
   "id": "257f5e1b",
   "metadata": {},
   "source": [
    "# 3-How many unique regions are covered in the dataset?\n",
    "\n"
   ]
  },
  {
   "cell_type": "code",
   "execution_count": 11,
   "id": "09110042",
   "metadata": {
    "collapsed": true
   },
   "outputs": [
    {
     "data": {
      "text/plain": [
       "array(['region_7', 'region_22', 'region_19', 'region_23', 'region_26',\n",
       "       'region_2', 'region_20', 'region_34', 'region_1', 'region_4',\n",
       "       'region_29', 'region_31', 'region_15', 'region_14', 'region_11',\n",
       "       'region_5', 'region_28', 'region_17', 'region_13', 'region_16',\n",
       "       'region_25', 'region_10', 'region_27', 'region_30', 'region_12',\n",
       "       'region_21', 'region_8', 'region_32', 'region_6', 'region_33',\n",
       "       'region_24', 'region_3', 'region_9', 'region_18'], dtype=object)"
      ]
     },
     "execution_count": 11,
     "metadata": {},
     "output_type": "execute_result"
    }
   ],
   "source": [
    "df.region.unique()"
   ]
  },
  {
   "cell_type": "markdown",
   "id": "40614a49",
   "metadata": {},
   "source": [
    "# 4-What are the different levels of education among the employees?\n",
    "\n"
   ]
  },
  {
   "cell_type": "code",
   "execution_count": 13,
   "id": "3a19cdeb",
   "metadata": {
    "collapsed": true
   },
   "outputs": [
    {
     "data": {
      "text/plain": [
       "array([\"Master's & above\", \"Bachelor's\", nan, 'Below Secondary'],\n",
       "      dtype=object)"
      ]
     },
     "execution_count": 13,
     "metadata": {},
     "output_type": "execute_result"
    }
   ],
   "source": [
    "df.education.unique()"
   ]
  },
  {
   "cell_type": "markdown",
   "id": "4228d571",
   "metadata": {},
   "source": [
    "# 5-How many male and female employees are there in the dataset?\n",
    "\n"
   ]
  },
  {
   "cell_type": "code",
   "execution_count": 26,
   "id": "8b04b6cc",
   "metadata": {},
   "outputs": [
    {
     "data": {
      "text/plain": [
       "m    38496\n",
       "f    16312\n",
       "Name: gender, dtype: int64"
      ]
     },
     "execution_count": 26,
     "metadata": {},
     "output_type": "execute_result"
    }
   ],
   "source": [
    "df.gender.value_counts()"
   ]
  },
  {
   "cell_type": "markdown",
   "id": "d6ff8937",
   "metadata": {},
   "source": [
    "# 6-What are the different recruitment channels used by the company?\n",
    "\n"
   ]
  },
  {
   "cell_type": "code",
   "execution_count": 27,
   "id": "aad810e4",
   "metadata": {},
   "outputs": [
    {
     "data": {
      "text/plain": [
       "array(['sourcing', 'other', 'referred'], dtype=object)"
      ]
     },
     "execution_count": 27,
     "metadata": {},
     "output_type": "execute_result"
    }
   ],
   "source": [
    "df.recruitment_channel.unique()"
   ]
  },
  {
   "cell_type": "markdown",
   "id": "86ca0294",
   "metadata": {},
   "source": [
    "# 7-What is the maximum number of trainings attended by an employee?\n",
    "\n"
   ]
  },
  {
   "cell_type": "code",
   "execution_count": 6,
   "id": "ad6cb4e8",
   "metadata": {},
   "outputs": [
    {
     "data": {
      "text/plain": [
       "employee_id                  29934\n",
       "department              Technology\n",
       "region                   region_23\n",
       "education                      NaN\n",
       "gender                           m\n",
       "recruitment_channel       sourcing\n",
       "no_of_trainings                  1\n",
       "age                             30\n",
       "previous_year_rating           NaN\n",
       "length_of_service                1\n",
       "KPIs_met >80%                    0\n",
       "awards_won?                      0\n",
       "avg_training_score              77\n",
       "is_promoted                      0\n",
       "Name: 10, dtype: object"
      ]
     },
     "execution_count": 6,
     "metadata": {},
     "output_type": "execute_result"
    }
   ],
   "source": [
    "df.no_of_trainings.max()\n",
    "#df.loc[df.no_of_trainings.max()] #Prints the Row that has an index 10"
   ]
  },
  {
   "cell_type": "markdown",
   "id": "69d32a10",
   "metadata": {},
   "source": [
    "# 8-What is the average age of employees in the dataset?\n",
    "\n"
   ]
  },
  {
   "cell_type": "code",
   "execution_count": 33,
   "id": "f23db15d",
   "metadata": {},
   "outputs": [
    {
     "data": {
      "text/plain": [
       "34.80391548679025"
      ]
     },
     "execution_count": 33,
     "metadata": {},
     "output_type": "execute_result"
    }
   ],
   "source": [
    "df.age.mean()\n"
   ]
  },
  {
   "cell_type": "markdown",
   "id": "1fd6dc8d",
   "metadata": {},
   "source": [
    "# 9-What is the maximum length of service among the employees?\n",
    "\n"
   ]
  },
  {
   "cell_type": "code",
   "execution_count": 34,
   "id": "3317cf43",
   "metadata": {},
   "outputs": [
    {
     "data": {
      "text/plain": [
       "37"
      ]
     },
     "execution_count": 34,
     "metadata": {},
     "output_type": "execute_result"
    }
   ],
   "source": [
    "df.length_of_service.max()\n"
   ]
  },
  {
   "cell_type": "markdown",
   "id": "d048b84b",
   "metadata": {},
   "source": [
    "# 10-What percentage of employees in the dataset were actually promoted?\n",
    "\n"
   ]
  },
  {
   "cell_type": "code",
   "execution_count": 53,
   "id": "978c25e5",
   "metadata": {},
   "outputs": [
    {
     "data": {
      "text/plain": [
       "8.517004816815064"
      ]
     },
     "execution_count": 53,
     "metadata": {},
     "output_type": "execute_result"
    }
   ],
   "source": [
    "((df.is_promoted[df.is_promoted ==1].count()) /(df.is_promoted.count())) * 100\n"
   ]
  },
  {
   "cell_type": "markdown",
   "id": "8207090d",
   "metadata": {},
   "source": [
    "# 11-What is the average age of promoted employees compared to non-promoted ones?\n",
    "\n"
   ]
  },
  {
   "cell_type": "code",
   "execution_count": 76,
   "id": "cd662df7",
   "metadata": {},
   "outputs": [
    {
     "name": "stdout",
     "output_type": "stream",
     "text": [
      "the age of promoted employees is:       71.32519280205655\n",
      "the age of non-promoted employees is:   62.64768647786199\n"
     ]
    }
   ],
   "source": [
    "print(\"the age of promoted employees is:      \",df.age[df.is_promoted ==1].mean())\n",
    "print(\"the age of non-promoted employees is:  \",df.age[df.is_promoted ==0].mean())\n"
   ]
  },
  {
   "cell_type": "markdown",
   "id": "6533db27",
   "metadata": {},
   "source": [
    "# 12-How does the average training score differ between promoted and non-promoted employees?\n",
    "\n"
   ]
  },
  {
   "cell_type": "code",
   "execution_count": 80,
   "id": "7f8eb7b6",
   "metadata": {},
   "outputs": [
    {
     "name": "stdout",
     "output_type": "stream",
     "text": [
      "the average training score of promoted employees     is:       71.32519280205655\n",
      "the average training score of non-promoted employees is:       62.64768647786199\n"
     ]
    }
   ],
   "source": [
    "print(\"the average training score of promoted employees     is:      \",df[\"avg_training_score\"][df.is_promoted ==1].mean())\n",
    "print(\"the average training score of non-promoted employees is:      \",df[\"avg_training_score\"][df.is_promoted ==0].mean())\n",
    "\n"
   ]
  },
  {
   "cell_type": "markdown",
   "id": "95e2c3ec",
   "metadata": {},
   "source": [
    "# 13-What is the average length of service for promoted employees?\n",
    "\n"
   ]
  },
  {
   "cell_type": "code",
   "execution_count": 83,
   "id": "8445d3e7",
   "metadata": {},
   "outputs": [
    {
     "name": "stdout",
     "output_type": "stream",
     "text": [
      "The average length of service of promoted employees     is:       5.716366752356469\n"
     ]
    }
   ],
   "source": [
    "print(\"The average length of service of promoted employees     is:      \",df[\"length_of_service\"][df.is_promoted ==1].mean())\n"
   ]
  },
  {
   "cell_type": "markdown",
   "id": "8aeab8b7",
   "metadata": {},
   "source": [
    "# 14-What is the proportion of employees who have won awards among promoted employees?\n",
    "\n"
   ]
  },
  {
   "cell_type": "code",
   "execution_count": 92,
   "id": "42f37213",
   "metadata": {},
   "outputs": [
    {
     "data": {
      "text/html": [
       "<div>\n",
       "<style scoped>\n",
       "    .dataframe tbody tr th:only-of-type {\n",
       "        vertical-align: middle;\n",
       "    }\n",
       "\n",
       "    .dataframe tbody tr th {\n",
       "        vertical-align: top;\n",
       "    }\n",
       "\n",
       "    .dataframe thead th {\n",
       "        text-align: right;\n",
       "    }\n",
       "</style>\n",
       "<table border=\"1\" class=\"dataframe\">\n",
       "  <thead>\n",
       "    <tr style=\"text-align: right;\">\n",
       "      <th></th>\n",
       "      <th>employee_id</th>\n",
       "      <th>department</th>\n",
       "      <th>region</th>\n",
       "      <th>education</th>\n",
       "      <th>gender</th>\n",
       "      <th>recruitment_channel</th>\n",
       "      <th>no_of_trainings</th>\n",
       "      <th>age</th>\n",
       "      <th>previous_year_rating</th>\n",
       "      <th>length_of_service</th>\n",
       "      <th>KPIs_met &gt;80%</th>\n",
       "      <th>awards_won?</th>\n",
       "      <th>avg_training_score</th>\n",
       "      <th>is_promoted</th>\n",
       "    </tr>\n",
       "  </thead>\n",
       "  <tbody>\n",
       "    <tr>\n",
       "      <th>66</th>\n",
       "      <td>77981</td>\n",
       "      <td>Finance</td>\n",
       "      <td>region_22</td>\n",
       "      <td>Bachelor's</td>\n",
       "      <td>m</td>\n",
       "      <td>other</td>\n",
       "      <td>1</td>\n",
       "      <td>27</td>\n",
       "      <td>NaN</td>\n",
       "      <td>1</td>\n",
       "      <td>1</td>\n",
       "      <td>1</td>\n",
       "      <td>58</td>\n",
       "      <td>1</td>\n",
       "    </tr>\n",
       "    <tr>\n",
       "      <th>122</th>\n",
       "      <td>38052</td>\n",
       "      <td>Procurement</td>\n",
       "      <td>region_34</td>\n",
       "      <td>Master's &amp; above</td>\n",
       "      <td>m</td>\n",
       "      <td>sourcing</td>\n",
       "      <td>1</td>\n",
       "      <td>37</td>\n",
       "      <td>5.0</td>\n",
       "      <td>3</td>\n",
       "      <td>0</td>\n",
       "      <td>1</td>\n",
       "      <td>92</td>\n",
       "      <td>1</td>\n",
       "    </tr>\n",
       "    <tr>\n",
       "      <th>200</th>\n",
       "      <td>53630</td>\n",
       "      <td>Sales &amp; Marketing</td>\n",
       "      <td>region_23</td>\n",
       "      <td>Master's &amp; above</td>\n",
       "      <td>f</td>\n",
       "      <td>sourcing</td>\n",
       "      <td>1</td>\n",
       "      <td>34</td>\n",
       "      <td>4.0</td>\n",
       "      <td>5</td>\n",
       "      <td>1</td>\n",
       "      <td>1</td>\n",
       "      <td>94</td>\n",
       "      <td>1</td>\n",
       "    </tr>\n",
       "    <tr>\n",
       "      <th>230</th>\n",
       "      <td>62923</td>\n",
       "      <td>Operations</td>\n",
       "      <td>region_13</td>\n",
       "      <td>Master's &amp; above</td>\n",
       "      <td>f</td>\n",
       "      <td>other</td>\n",
       "      <td>1</td>\n",
       "      <td>38</td>\n",
       "      <td>5.0</td>\n",
       "      <td>2</td>\n",
       "      <td>1</td>\n",
       "      <td>1</td>\n",
       "      <td>93</td>\n",
       "      <td>1</td>\n",
       "    </tr>\n",
       "    <tr>\n",
       "      <th>317</th>\n",
       "      <td>22865</td>\n",
       "      <td>Analytics</td>\n",
       "      <td>region_20</td>\n",
       "      <td>Master's &amp; above</td>\n",
       "      <td>m</td>\n",
       "      <td>other</td>\n",
       "      <td>1</td>\n",
       "      <td>40</td>\n",
       "      <td>5.0</td>\n",
       "      <td>5</td>\n",
       "      <td>0</td>\n",
       "      <td>1</td>\n",
       "      <td>83</td>\n",
       "      <td>1</td>\n",
       "    </tr>\n",
       "    <tr>\n",
       "      <th>...</th>\n",
       "      <td>...</td>\n",
       "      <td>...</td>\n",
       "      <td>...</td>\n",
       "      <td>...</td>\n",
       "      <td>...</td>\n",
       "      <td>...</td>\n",
       "      <td>...</td>\n",
       "      <td>...</td>\n",
       "      <td>...</td>\n",
       "      <td>...</td>\n",
       "      <td>...</td>\n",
       "      <td>...</td>\n",
       "      <td>...</td>\n",
       "      <td>...</td>\n",
       "    </tr>\n",
       "    <tr>\n",
       "      <th>54017</th>\n",
       "      <td>69878</td>\n",
       "      <td>Analytics</td>\n",
       "      <td>region_26</td>\n",
       "      <td>Master's &amp; above</td>\n",
       "      <td>m</td>\n",
       "      <td>sourcing</td>\n",
       "      <td>1</td>\n",
       "      <td>41</td>\n",
       "      <td>5.0</td>\n",
       "      <td>5</td>\n",
       "      <td>1</td>\n",
       "      <td>1</td>\n",
       "      <td>90</td>\n",
       "      <td>1</td>\n",
       "    </tr>\n",
       "    <tr>\n",
       "      <th>54024</th>\n",
       "      <td>3752</td>\n",
       "      <td>HR</td>\n",
       "      <td>region_2</td>\n",
       "      <td>Master's &amp; above</td>\n",
       "      <td>m</td>\n",
       "      <td>sourcing</td>\n",
       "      <td>1</td>\n",
       "      <td>60</td>\n",
       "      <td>5.0</td>\n",
       "      <td>8</td>\n",
       "      <td>1</td>\n",
       "      <td>1</td>\n",
       "      <td>50</td>\n",
       "      <td>1</td>\n",
       "    </tr>\n",
       "    <tr>\n",
       "      <th>54146</th>\n",
       "      <td>37302</td>\n",
       "      <td>Operations</td>\n",
       "      <td>region_2</td>\n",
       "      <td>Bachelor's</td>\n",
       "      <td>m</td>\n",
       "      <td>other</td>\n",
       "      <td>1</td>\n",
       "      <td>37</td>\n",
       "      <td>5.0</td>\n",
       "      <td>7</td>\n",
       "      <td>0</td>\n",
       "      <td>1</td>\n",
       "      <td>79</td>\n",
       "      <td>1</td>\n",
       "    </tr>\n",
       "    <tr>\n",
       "      <th>54503</th>\n",
       "      <td>10882</td>\n",
       "      <td>Sales &amp; Marketing</td>\n",
       "      <td>region_25</td>\n",
       "      <td>Master's &amp; above</td>\n",
       "      <td>m</td>\n",
       "      <td>sourcing</td>\n",
       "      <td>2</td>\n",
       "      <td>32</td>\n",
       "      <td>4.0</td>\n",
       "      <td>5</td>\n",
       "      <td>1</td>\n",
       "      <td>1</td>\n",
       "      <td>92</td>\n",
       "      <td>1</td>\n",
       "    </tr>\n",
       "    <tr>\n",
       "      <th>54507</th>\n",
       "      <td>43314</td>\n",
       "      <td>Analytics</td>\n",
       "      <td>region_25</td>\n",
       "      <td>Master's &amp; above</td>\n",
       "      <td>m</td>\n",
       "      <td>other</td>\n",
       "      <td>1</td>\n",
       "      <td>35</td>\n",
       "      <td>5.0</td>\n",
       "      <td>3</td>\n",
       "      <td>0</td>\n",
       "      <td>1</td>\n",
       "      <td>81</td>\n",
       "      <td>1</td>\n",
       "    </tr>\n",
       "  </tbody>\n",
       "</table>\n",
       "<p>559 rows × 14 columns</p>\n",
       "</div>"
      ],
      "text/plain": [
       "       employee_id         department     region         education gender  \\\n",
       "66           77981            Finance  region_22        Bachelor's      m   \n",
       "122          38052        Procurement  region_34  Master's & above      m   \n",
       "200          53630  Sales & Marketing  region_23  Master's & above      f   \n",
       "230          62923         Operations  region_13  Master's & above      f   \n",
       "317          22865          Analytics  region_20  Master's & above      m   \n",
       "...            ...                ...        ...               ...    ...   \n",
       "54017        69878          Analytics  region_26  Master's & above      m   \n",
       "54024         3752                 HR   region_2  Master's & above      m   \n",
       "54146        37302         Operations   region_2        Bachelor's      m   \n",
       "54503        10882  Sales & Marketing  region_25  Master's & above      m   \n",
       "54507        43314          Analytics  region_25  Master's & above      m   \n",
       "\n",
       "      recruitment_channel  no_of_trainings  age  previous_year_rating  \\\n",
       "66                  other                1   27                   NaN   \n",
       "122              sourcing                1   37                   5.0   \n",
       "200              sourcing                1   34                   4.0   \n",
       "230                 other                1   38                   5.0   \n",
       "317                 other                1   40                   5.0   \n",
       "...                   ...              ...  ...                   ...   \n",
       "54017            sourcing                1   41                   5.0   \n",
       "54024            sourcing                1   60                   5.0   \n",
       "54146               other                1   37                   5.0   \n",
       "54503            sourcing                2   32                   4.0   \n",
       "54507               other                1   35                   5.0   \n",
       "\n",
       "       length_of_service  KPIs_met >80%  awards_won?  avg_training_score  \\\n",
       "66                     1              1            1                  58   \n",
       "122                    3              0            1                  92   \n",
       "200                    5              1            1                  94   \n",
       "230                    2              1            1                  93   \n",
       "317                    5              0            1                  83   \n",
       "...                  ...            ...          ...                 ...   \n",
       "54017                  5              1            1                  90   \n",
       "54024                  8              1            1                  50   \n",
       "54146                  7              0            1                  79   \n",
       "54503                  5              1            1                  92   \n",
       "54507                  3              0            1                  81   \n",
       "\n",
       "       is_promoted  \n",
       "66               1  \n",
       "122              1  \n",
       "200              1  \n",
       "230              1  \n",
       "317              1  \n",
       "...            ...  \n",
       "54017            1  \n",
       "54024            1  \n",
       "54146            1  \n",
       "54503            1  \n",
       "54507            1  \n",
       "\n",
       "[559 rows x 14 columns]"
      ]
     },
     "execution_count": 92,
     "metadata": {},
     "output_type": "execute_result"
    }
   ],
   "source": [
    "df[(df[\"awards_won?\"]==1) &(df.is_promoted==1)]"
   ]
  },
  {
   "cell_type": "markdown",
   "id": "b2ad506e",
   "metadata": {},
   "source": [
    "# 15-Is there a correlation between KPIs met >80% and promotion?\n",
    "\n"
   ]
  },
  {
   "cell_type": "code",
   "execution_count": 96,
   "id": "ad13eaf1",
   "metadata": {},
   "outputs": [
    {
     "data": {
      "text/plain": [
       "0.22158153967701025"
      ]
     },
     "execution_count": 96,
     "metadata": {},
     "output_type": "execute_result"
    }
   ],
   "source": [
    "correlation = df['KPIs_met >80%'].corr(df['is_promoted'])\n",
    "correlation"
   ]
  },
  {
   "cell_type": "code",
   "execution_count": 111,
   "id": "545351ab",
   "metadata": {},
   "outputs": [
    {
     "name": "stdout",
     "output_type": "stream",
     "text": [
      "correlation: 0.2215815396770156\n",
      "p-value    : 0.0\n",
      "Therefore, with a p-value of 0.0, you can conclude that there is a highly significant correlation between 'KPIs met >80%' and 'promotion' in The dataset.\n"
     ]
    }
   ],
   "source": [
    "correlation, p_value = pearsonr(df['KPIs_met >80%'], df['is_promoted'])\n",
    "print(\"correlation:\",correlation)\n",
    "print(\"p-value    :\",p_value)\n",
    "print(\"Therefore, with a p-value of 0.0, you can conclude that there is a highly significant correlation between 'KPIs met >80%' and 'promotion' in The dataset.\")"
   ]
  },
  {
   "cell_type": "markdown",
   "id": "2e5814d2",
   "metadata": {},
   "source": [
    "# 16-What is the correlation between the number of trainings attended and promotion?\n",
    "\n"
   ]
  },
  {
   "cell_type": "code",
   "execution_count": 114,
   "id": "eca0cab2",
   "metadata": {},
   "outputs": [
    {
     "name": "stdout",
     "output_type": "stream",
     "text": [
      "correlation: -0.024895917682412498\n",
      "p-value    : 5.5700139823243074e-09\n",
      "a weak negative correlation\n"
     ]
    }
   ],
   "source": [
    "correlation, p_value = pearsonr(df['no_of_trainings'], df['is_promoted'])\n",
    "print(\"correlation:\",correlation)\n",
    "print(\"p-value    :\",p_value)\n",
    "print(\"a weak negative correlation\")"
   ]
  },
  {
   "cell_type": "markdown",
   "id": "b222667b",
   "metadata": {},
   "source": [
    "# 17-How does the length of service correlate with the average training score?"
   ]
  },
  {
   "cell_type": "code",
   "execution_count": 115,
   "id": "52ee7186",
   "metadata": {},
   "outputs": [
    {
     "name": "stdout",
     "output_type": "stream",
     "text": [
      "correlation: -0.0381221559583849\n",
      "p-value    : 4.343255715538472e-19\n",
      "a weak negative correlation\n"
     ]
    }
   ],
   "source": [
    "correlation, p_value = pearsonr(df['length_of_service'], df['avg_training_score'])\n",
    "print(\"correlation:\",correlation)\n",
    "print(\"p-value    :\",p_value)\n",
    "print(\"a weak negative correlation\")"
   ]
  },
  {
   "cell_type": "markdown",
   "id": "0734db33",
   "metadata": {},
   "source": [
    "# 18-Is there any correlation between age and the number of trainings attended?\n",
    "\n"
   ]
  },
  {
   "cell_type": "code",
   "execution_count": 116,
   "id": "a0b982c2",
   "metadata": {},
   "outputs": [
    {
     "name": "stdout",
     "output_type": "stream",
     "text": [
      "correlation: -0.08127788515891315\n",
      "p-value    : 5.515586459857862e-81\n",
      "a weak negative correlation\n"
     ]
    }
   ],
   "source": [
    "correlation, p_value = pearsonr(df['age'], df['no_of_trainings'])\n",
    "print(\"correlation:\",correlation)\n",
    "print(\"p-value    :\",p_value)\n",
    "print(\"a weak negative correlation\")"
   ]
  },
  {
   "cell_type": "markdown",
   "id": "8d032a06",
   "metadata": {},
   "source": [
    "# 19-How can you group the data by department and calculate the average age for each department?"
   ]
  },
  {
   "cell_type": "code",
   "execution_count": 122,
   "id": "8447c1b4",
   "metadata": {
    "scrolled": true
   },
   "outputs": [
    {
     "data": {
      "text/plain": [
       "department\n",
       "Analytics            32.431241\n",
       "Finance              32.058754\n",
       "HR                   34.385856\n",
       "Legal                33.832531\n",
       "Operations           36.073669\n",
       "Procurement          35.899972\n",
       "R&D                  32.842843\n",
       "Sales & Marketing    34.860629\n",
       "Technology           34.867190\n",
       "Name: age, dtype: float64"
      ]
     },
     "execution_count": 122,
     "metadata": {},
     "output_type": "execute_result"
    }
   ],
   "source": [
    "df.groupby([\"department\"])[\"age\"].mean()"
   ]
  },
  {
   "cell_type": "markdown",
   "id": "e36f5a1f",
   "metadata": {},
   "source": [
    "# 20-What is the total number of trainings attended by employees in each region?"
   ]
  },
  {
   "cell_type": "code",
   "execution_count": 123,
   "id": "91b8c3a3",
   "metadata": {},
   "outputs": [
    {
     "data": {
      "text/plain": [
       "region\n",
       "region_1       712\n",
       "region_10      764\n",
       "region_11     1561\n",
       "region_12      591\n",
       "region_13     3121\n",
       "region_14      937\n",
       "region_15     3454\n",
       "region_16     1739\n",
       "region_17      899\n",
       "region_18       33\n",
       "region_19     1041\n",
       "region_2     16080\n",
       "region_20     1017\n",
       "region_21      501\n",
       "region_22     9036\n",
       "region_23     1456\n",
       "region_24      624\n",
       "region_25     1004\n",
       "region_26     2696\n",
       "region_27     2093\n",
       "region_28     1665\n",
       "region_29     1167\n",
       "region_3       390\n",
       "region_30      761\n",
       "region_31     2443\n",
       "region_32     1161\n",
       "region_33      300\n",
       "region_34      351\n",
       "region_4      2017\n",
       "region_5       910\n",
       "region_6       803\n",
       "region_7      6116\n",
       "region_8       703\n",
       "region_9       529\n",
       "Name: no_of_trainings, dtype: int64"
      ]
     },
     "execution_count": 123,
     "metadata": {},
     "output_type": "execute_result"
    }
   ],
   "source": [
    "df.groupby([\"region\"])[\"no_of_trainings\"].sum()"
   ]
  },
  {
   "cell_type": "code",
   "execution_count": null,
   "id": "e238f106",
   "metadata": {},
   "outputs": [],
   "source": []
  }
 ],
 "metadata": {
  "kernelspec": {
   "display_name": "Python 3 (ipykernel)",
   "language": "python",
   "name": "python3"
  },
  "language_info": {
   "codemirror_mode": {
    "name": "ipython",
    "version": 3
   },
   "file_extension": ".py",
   "mimetype": "text/x-python",
   "name": "python",
   "nbconvert_exporter": "python",
   "pygments_lexer": "ipython3",
   "version": "3.10.9"
  }
 },
 "nbformat": 4,
 "nbformat_minor": 5
}
